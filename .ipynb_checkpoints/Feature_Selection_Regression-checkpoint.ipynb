{
 "cells": [
  {
   "cell_type": "markdown",
   "metadata": {},
   "source": [
    "#### This notebook is about using feature selection techniques to obtain best features for regression. The target is such that Target(t)=Price(t+1)"
   ]
  },
  {
   "cell_type": "code",
   "execution_count": 1,
   "metadata": {},
   "outputs": [],
   "source": [
    "%matplotlib inline\n",
    "import pandas as pd\n",
    "import numpy as np\n",
    "from sklearn import preprocessing\n",
    "from sklearn.feature_selection import SelectKBest\n",
    "from sklearn.feature_selection import chi2\n",
    "from technical_indicators import *\n",
    "\n",
    "pd.set_option(\"display.max_columns\", 15)\n",
    "pd.set_option(\"display.width\", 500)\n",
    "pd.set_option(\"display.max_rows\", 100)"
   ]
  },
  {
   "cell_type": "code",
   "execution_count": 2,
   "metadata": {},
   "outputs": [],
   "source": [
    "df = pd.read_csv('Data/EUR_USD_Daily.csv', index_col=0)\n",
    "df = moving_average(df, 5)\n",
    "df = moving_average(df, 8)\n",
    "df = moving_average(df, 10)\n",
    "df = moving_average(df, 13)\n",
    "df = moving_average(df, 15)\n",
    "df = moving_average(df, 20)\n",
    "df = moving_average(df, 21)\n",
    "df = EMA(df, 5)\n",
    "df = EMA(df, 10)\n",
    "df = EMA(df, 15)\n",
    "df = EMA(df, 20)\n",
    "df = MACD(df, 12, 26, 9)\n",
    "df = MACD(df, 21, 55, 13)\n",
    "df = stochastic_oscillator(df, 5)\n",
    "df = stochastic_oscillator(df, 8)\n",
    "df = stochastic_oscillator(df, 10)\n",
    "df = stochastic_oscillator(df, 13)\n",
    "df = stochastic_oscillator(df, 15)\n",
    "df = stochastic_oscillator(df, 20)\n",
    "df = stochastic_oscillator(df, 21)\n",
    "df = williams_R(df, 5)\n",
    "df = williams_R(df, 7)\n",
    "df = williams_R(df, 8)\n",
    "df = williams_R(df, 10)\n",
    "df = williams_R(df, 13)\n",
    "df = williams_R(df, 14)\n",
    "df = williams_R(df, 15)\n",
    "df = williams_R(df, 20)\n",
    "df = williams_R(df, 21)\n",
    "df = relative_strength_index(df, 5)\n",
    "df = relative_strength_index(df, 7)\n",
    "df = relative_strength_index(df, 8)\n",
    "df = relative_strength_index(df, 10)\n",
    "df = relative_strength_index(df, 13)\n",
    "df = relative_strength_index(df, 14)\n",
    "df = relative_strength_index(df, 15)\n",
    "df = relative_strength_index(df, 20)\n",
    "df = relative_strength_index(df, 21)\n",
    "df = momentum(df, 5)\n",
    "df = momentum(df, 7)\n",
    "df = momentum(df, 8)\n",
    "df = momentum(df, 10)\n",
    "df = momentum(df, 13)\n",
    "df = momentum(df, 14)\n",
    "df = momentum(df, 15)\n",
    "df = momentum(df, 20)\n",
    "df = momentum(df, 21)\n",
    "df = change_rate(df, 1)\n",
    "df = change_rate(df, 2)\n",
    "df = change_rate(df, 3)\n",
    "df = change_rate(df, 4)\n",
    "df = change_rate(df, 5)\n",
    "df = average_true_range(df, 7)\n",
    "df = average_true_range(df, 14)\n",
    "df = average_true_range(df, 21)\n",
    "df = average_directional_index_and_DI(df, 5)\n",
    "df = average_directional_index_and_DI(df, 7)\n",
    "df = average_directional_index_and_DI(df, 8)\n",
    "df = average_directional_index_and_DI(df, 10)\n",
    "df = average_directional_index_and_DI(df, 13)\n",
    "df = average_directional_index_and_DI(df, 14)\n",
    "df = average_directional_index_and_DI(df, 15)\n",
    "df = average_directional_index_and_DI(df, 20)\n",
    "df = average_directional_index_and_DI(df, 21)"
   ]
  },
  {
   "cell_type": "code",
   "execution_count": 3,
   "metadata": {},
   "outputs": [],
   "source": [
    "def regression_target(df, n):\n",
    "    df['Target'] = df['Price'].shift(-n)\n",
    "    df.dropna(inplace=True)\n",
    "    \n",
    "    return df\n",
    "\n",
    "# Set how many days look ahead\n",
    "look_ahead = 1\n",
    "df = regression_target(df, look_ahead)"
   ]
  },
  {
   "cell_type": "code",
   "execution_count": 4,
   "metadata": {},
   "outputs": [],
   "source": [
    "# Normalise data\n",
    "col_name = list(df)\n",
    "x = df.values\n",
    "\n",
    "min_max_scaler = preprocessing.MinMaxScaler()\n",
    "x_scaled = min_max_scaler.fit_transform(x)\n",
    "df = pd.DataFrame(x_scaled, columns=col_name)\n",
    "\n",
    "# # normalized_df = (df-df.min())/(df.max()-df.min())\n",
    "\n",
    "X = df.iloc[:,:-1]  #independent columns\n",
    "y = df.iloc[:,-1] # target"
   ]
  },
  {
   "cell_type": "code",
   "execution_count": 5,
   "metadata": {},
   "outputs": [
    {
     "name": "stdout",
     "output_type": "stream",
     "text": [
      "Low      0.998579\n",
      "High     0.998508\n",
      "ema5     0.998219\n",
      "Open     0.998010\n",
      "5ma      0.997845\n",
      "ema10    0.996985\n",
      "8ma      0.996861\n",
      "10ma     0.996186\n",
      "ema15    0.995701\n",
      "13ma     0.995188\n",
      "Name: Target, dtype: float64\n",
      "%R W10   -0.066144\n",
      "%R W8    -0.066625\n",
      "-DI 15   -0.067020\n",
      "%R W13   -0.070320\n",
      "%R W14   -0.071384\n",
      "%R W15   -0.072676\n",
      "-DI 20   -0.078872\n",
      "-DI 21   -0.081234\n",
      "%R W20   -0.085522\n",
      "%R W21   -0.087104\n",
      "Name: Target, dtype: float64\n",
      "['Low', 'High', 'ema5', 'Open', '5ma', 'ema10', '8ma', '10ma', 'ema15', '13ma', '15ma', 'ema20', '20ma', '21ma', 'ATR 21', 'ATR_scaled 21', 'ATR 14', 'ATR_scaled 14', 'ATR 7', 'ATR_scaled 7']\n"
     ]
    }
   ],
   "source": [
    "from scipy.stats import pearsonr\n",
    "\n",
    "# {‘pearson’, ‘kendall’, ‘spearman’}\n",
    "df_corr = df[df.columns[1:]].corr(method='pearson')['Target'][:-1]\n",
    "df_corr.sort_values(ascending=False, inplace=True)\n",
    "print(df_corr.head(10))\n",
    "print(df_corr.tail(10))\n",
    "\n",
    "df_corr = df_corr.reset_index()\n",
    "feature_list = list(df_corr['index'].head(20))\n",
    "print(feature_list)"
   ]
  },
  {
   "cell_type": "code",
   "execution_count": null,
   "metadata": {
    "scrolled": false
   },
   "outputs": [],
   "source": [
    "import seaborn as sns\n",
    "\n",
    "# print(col_name[:-1])\n",
    "sns.pairplot(df, x_vars=col_name[:-1], y_vars=col_name[-1], height=7, aspect=0.7)"
   ]
  },
  {
   "cell_type": "code",
   "execution_count": null,
   "metadata": {
    "scrolled": false
   },
   "outputs": [],
   "source": [
    "from sklearn.metrics import mean_squared_error\n",
    "from sklearn.ensemble import GradientBoostingRegressor\n",
    "import matplotlib.pyplot as plt\n",
    "\n",
    "clf = GradientBoostingRegressor(n_estimators=200, learning_rate=0.1, max_depth=1, random_state=0, loss='ls').fit(X, y)\n",
    "feat_importances = pd.Series(clf.feature_importances_, index=X.columns)\n",
    "feat_importances.nlargest(20).plot(kind='barh', figsize=(12,8))\n",
    "\n",
    "tmp_df = feat_importances.nlargest(20)\n",
    "print(tmp_df)\n",
    "print(tmp_df.index.tolist())\n",
    "\n",
    "plt.show()"
   ]
  },
  {
   "cell_type": "code",
   "execution_count": null,
   "metadata": {},
   "outputs": [],
   "source": []
  }
 ],
 "metadata": {
  "kernelspec": {
   "display_name": "Python 3",
   "language": "python",
   "name": "python3"
  },
  "language_info": {
   "codemirror_mode": {
    "name": "ipython",
    "version": 3
   },
   "file_extension": ".py",
   "mimetype": "text/x-python",
   "name": "python",
   "nbconvert_exporter": "python",
   "pygments_lexer": "ipython3",
   "version": "3.6.4"
  }
 },
 "nbformat": 4,
 "nbformat_minor": 2
}
