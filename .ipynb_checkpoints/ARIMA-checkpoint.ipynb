{
 "cells": [
  {
   "cell_type": "code",
   "execution_count": 2,
   "metadata": {},
   "outputs": [],
   "source": [
    "%matplotlib inline\n",
    "from statsmodels.tsa.arima_model import ARIMA\n",
    "import pandas as pd\n",
    "import numpy as np\n",
    "import mpld3\n",
    "from collections import Counter\n",
    "\n",
    "mpld3.enable_notebook()\n",
    "from statistical_metrics import *\n",
    "from technical_indicators import *\n",
    "\n",
    "pd.set_option(\"display.max_columns\", 15)\n",
    "pd.set_option(\"display.width\", 500)"
   ]
  },
  {
   "cell_type": "code",
   "execution_count": 3,
   "metadata": {},
   "outputs": [
    {
     "name": "stdout",
     "output_type": "stream",
     "text": [
      "Classification number: Counter({-1: 679, 1: 550})\n",
      "Downtrend: 0.552\n",
      "Uptrend: 0.448\n"
     ]
    }
   ],
   "source": [
    "def SMA_classification(df, n):\n",
    "    df['Target ma'] = df['Price'].rolling(window=n, min_periods=n).mean()\n",
    "    df['Target ma'] = df['Target ma'].round(4)\n",
    "    df.dropna(inplace=True)\n",
    "    df['Target'] = np.where(df['Target ma'.format(n)].shift(-n) > df['Target ma'], 1, -1)\n",
    "    df.drop(columns=['Target ma'], inplace=True)\n",
    "    df.dropna(inplace=True)\n",
    "\n",
    "    return df\n",
    "\n",
    "df = pd.read_csv('Data/EUR_USD_1418.csv', index_col=0)\n",
    "\n",
    "look_ahead = 5\n",
    "# Create labels for training\n",
    "df = SMA_classification(df, look_ahead)\n",
    "\n",
    "df.dropna(inplace=True)\n",
    "\n",
    "df.drop(columns=['Change'], inplace=True)\n",
    "\n",
    "df = moving_average(df, 5)\n",
    "df = moving_average(df, 8)\n",
    "df = moving_average(df, 21)\n",
    "df = EMA(df, 5)\n",
    "df = EMA(df, 20)\n",
    "df = MACD(df, 12, 26, 9)\n",
    "df = MACD(df, 21, 55, 13)\n",
    "df = stochastic_oscillator(df, 5)\n",
    "df = stochastic_oscillator(df, 8)\n",
    "df = stochastic_oscillator(df, 21)\n",
    "df = williams_R(df, 5)\n",
    "df = williams_R(df, 7)\n",
    "df = williams_R(df, 21)\n",
    "df = relative_strength_index(df, 5)\n",
    "df = relative_strength_index(df, 7)\n",
    "df = relative_strength_index(df, 21)\n",
    "df = momentum(df, 5)\n",
    "df = momentum(df, 7)\n",
    "df = momentum(df, 21)\n",
    "df = change_rate(df, 1)\n",
    "df = change_rate(df, 5)\n",
    "df = average_true_range(df, 7)\n",
    "df = average_true_range(df, 21)\n",
    "df = average_directional_index_and_DI(df, 5)\n",
    "df = average_directional_index_and_DI(df, 7)\n",
    "df = average_directional_index_and_DI(df, 21)\n",
    "df.dropna(inplace=True)\n",
    "\n",
    "print('Classification number:', Counter(df['Target']))\n",
    "target_counts = dict(Counter(df['Target']).items())\n",
    "print('Downtrend:', round(target_counts.get(-1)/df['Target'].shape[0], 3))\n",
    "print('Uptrend:', round(target_counts.get(1)/df['Target'].shape[0], 3))"
   ]
  },
  {
   "cell_type": "code",
   "execution_count": 4,
   "metadata": {},
   "outputs": [],
   "source": []
  },
  {
   "cell_type": "code",
   "execution_count": 5,
   "metadata": {},
   "outputs": [],
   "source": []
  },
  {
   "cell_type": "code",
   "execution_count": null,
   "metadata": {},
   "outputs": [],
   "source": []
  }
 ],
 "metadata": {
  "kernelspec": {
   "display_name": "Python 3",
   "language": "python",
   "name": "python3"
  },
  "language_info": {
   "codemirror_mode": {
    "name": "ipython",
    "version": 3
   },
   "file_extension": ".py",
   "mimetype": "text/x-python",
   "name": "python",
   "nbconvert_exporter": "python",
   "pygments_lexer": "ipython3",
   "version": "3.6.4"
  }
 },
 "nbformat": 4,
 "nbformat_minor": 2
}
