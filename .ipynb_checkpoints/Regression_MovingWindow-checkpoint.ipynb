{
 "cells": [
  {
   "cell_type": "code",
   "execution_count": 7,
   "metadata": {},
   "outputs": [],
   "source": [
    "import numpy as np\n",
    "import pickle\n",
    "import pandas as pd\n",
    "import matplotlib.pyplot as plt\n",
    "import warnings\n",
    "from collections import Counter\n",
    "from sklearn import neighbors, svm, model_selection, metrics\n",
    "from sklearn.ensemble import VotingClassifier, RandomForestClassifier\n",
    "from sklearn.model_selection import TimeSeriesSplit, cross_validate, train_test_split\n",
    "from sklearn.utils import resample\n",
    "from tqdm import tqdm\n",
    "import datetime as dt\n",
    "from technical_indicators import *\n",
    "from statistical_metrics import *\n",
    "\n",
    "\n",
    "pd.set_option(\"display.max_columns\", 15)\n",
    "pd.set_option(\"display.width\", 500)\n",
    "\n",
    "# Variables\n",
    "moving_window = 1000\n",
    "test_len = 10\n",
    "\n",
    "\n",
    "def regression_target(df, n):\n",
    "    df['Target'] = df['Price'].shift(-n)\n",
    "    df.dropna(inplace=True)\n",
    "    \n",
    "    return df\n",
    "\n",
    "def data_processing(df):\n",
    "    \n",
    "    df = df.replace([np.inf, -np.inf], np.nan)\n",
    "    # Drop na, nan and nat rows\n",
    "    df.dropna(inplace=True)\n",
    "    \n",
    "    tmp_df = df.copy()\n",
    "    tmp_df.drop(columns=['Target'], inplace=True)\n",
    "    \n",
    "    X = tmp_df.values\n",
    "    y = df['Target'].values\n",
    "\n",
    "    return X, y, df\n",
    "\n",
    "\n",
    "def feature_comparison(original_df, moving_window, test_len):\n",
    "    \n",
    "    clf1 = svm.SVR(kernel='rbf', C=10, epsilon=0.01)\n",
    "    clf2 = svm.SVR(kernel='linear', C=10, epsilon=0.01)\n",
    "    clf3 = svm.SVR(kernel='rbf', C=10, epsilon=0.001)\n",
    "    clf4 = svm.SVR(kernel='linear', C=10, epsilon=0.001)\n",
    "    \n",
    "    clf_list = [clf1, clf2, clf3, clf4]\n",
    "    clf_name_list = ['SVM.SVR.RBF.eps:0.01', 'SVM.SVR.Linear.eps:0.001', 'SVM.SVR.RBF.eps:0.01', \n",
    "                     'SVM.SVR.Linear.eps:0.001']\n",
    "    \n",
    "    accuracy_list = []\n",
    "    \n",
    "    for i in range(len(clf_list)):\n",
    "\n",
    "        df = original_df.copy()\n",
    "        X, y, df = data_processing(df)\n",
    "        \n",
    "        correct = wrong = 0\n",
    "        \n",
    "        for j in tqdm(range(X.shape[0]-moving_window-test_len)):\n",
    "\n",
    "            X_train, X_test = X[np.arange(j,j+moving_window)], X[np.arange(j+moving_window,j+moving_window+test_len)]\n",
    "            y_train, y_test = y[np.arange(j,j+moving_window)], y[np.arange(j+moving_window,j+moving_window+test_len)]\n",
    "            \n",
    "            clf_list[i].fit(X_train, y_train)\n",
    "            test_prediction = clf_list[i].predict(X_test)\n",
    "            \n",
    "            test_data = {'Actual': y_test , 'Predicted': test_prediction}\n",
    "            df_comparison_test = pd.DataFrame(test_data)\n",
    "            \n",
    "            rmse, nrmse = normalised_and_root_mean_square_error(df_comparison_test, 'Actual', 'Predicted')\n",
    "            \n",
    "            accuracy_list.append(rmse)\n",
    "        \n",
    "        print('Mean rmse of {}: {}'.format(clf_name_list[i], round(np.mean(accuracy_list), 6)))\n",
    "    \n",
    "def build_model(clf, X_train, y_train, X_test, y_test):\n",
    "    \n",
    "    clf.fit(X_train, y_train)\n",
    "    accuracy = clf.score(X_test, y_test)\n",
    "    prediction = clf.predict(X_test)\n",
    "    \n",
    "    return accuracy, prediction\n"
   ]
  },
  {
   "cell_type": "code",
   "execution_count": 8,
   "metadata": {},
   "outputs": [],
   "source": [
    "df = pd.read_csv('Data/EUR_USD_Daily.csv', index_col=0)\n",
    "\n",
    "# Create labels for training\n",
    "df = regression_target(df, 1)\n",
    "\n",
    "df.drop(columns=['Change'], inplace=True)\n",
    "\n",
    "df = moving_average(df, 5)\n",
    "df = moving_average(df, 8)\n",
    "df = moving_average(df, 10)\n",
    "df = moving_average(df, 13)\n",
    "df = moving_average(df, 15)\n",
    "df = moving_average(df, 20)\n",
    "df = moving_average(df, 21)\n",
    "df.dropna(inplace=True)"
   ]
  },
  {
   "cell_type": "code",
   "execution_count": 9,
   "metadata": {},
   "outputs": [
    {
     "name": "stderr",
     "output_type": "stream",
     "text": [
      "100%|██████████████████████████████████████████████████| 3921/3921 [01:10<00:00, 55.91it/s]\n"
     ]
    },
    {
     "name": "stdout",
     "output_type": "stream",
     "text": [
      "Mean rmse of SVM.SVR.RBF.eps:0.01: 0.007451\n"
     ]
    },
    {
     "name": "stderr",
     "output_type": "stream",
     "text": [
      "100%|██████████████████████████████████████████████████| 3921/3921 [02:31<00:00, 25.93it/s]\n"
     ]
    },
    {
     "name": "stdout",
     "output_type": "stream",
     "text": [
      "Mean rmse of SVM.SVR.Linear.eps:0.001: 0.007362\n"
     ]
    },
    {
     "name": "stderr",
     "output_type": "stream",
     "text": [
      "100%|██████████████████████████████████████████████████| 3921/3921 [03:37<00:00, 20.04it/s]\n"
     ]
    },
    {
     "name": "stdout",
     "output_type": "stream",
     "text": [
      "Mean rmse of SVM.SVR.RBF.eps:0.01: 0.007353\n"
     ]
    },
    {
     "name": "stderr",
     "output_type": "stream",
     "text": [
      "100%|██████████████████████████████████████████████████| 3921/3921 [10:56<00:00,  5.97it/s]\n"
     ]
    },
    {
     "name": "stdout",
     "output_type": "stream",
     "text": [
      "Mean rmse of SVM.SVR.Linear.eps:0.001: 0.00732\n"
     ]
    }
   ],
   "source": [
    "warnings.filterwarnings(module='sklearn*', action='ignore', category=DeprecationWarning)\n",
    "feature_comparison(df, moving_window, test_len)"
   ]
  },
  {
   "cell_type": "code",
   "execution_count": null,
   "metadata": {},
   "outputs": [],
   "source": []
  }
 ],
 "metadata": {
  "kernelspec": {
   "display_name": "Python 3",
   "language": "python",
   "name": "python3"
  },
  "language_info": {
   "codemirror_mode": {
    "name": "ipython",
    "version": 3
   },
   "file_extension": ".py",
   "mimetype": "text/x-python",
   "name": "python",
   "nbconvert_exporter": "python",
   "pygments_lexer": "ipython3",
   "version": "3.6.4"
  }
 },
 "nbformat": 4,
 "nbformat_minor": 2
}
