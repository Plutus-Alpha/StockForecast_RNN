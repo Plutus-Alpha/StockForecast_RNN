{
 "cells": [
  {
   "cell_type": "code",
   "execution_count": 1,
   "metadata": {},
   "outputs": [],
   "source": [
    "import pandas as pd\n",
    "import numpy as np\n",
    "from technical_indicators import *\n",
    "from sklearn import preprocessing"
   ]
  },
  {
   "cell_type": "code",
   "execution_count": 2,
   "metadata": {},
   "outputs": [],
   "source": [
    "pd.set_option(\"display.max_columns\", 11)\n",
    "pd.set_option(\"display.width\", 500)"
   ]
  },
  {
   "cell_type": "code",
   "execution_count": 3,
   "metadata": {
    "scrolled": false
   },
   "outputs": [
    {
     "name": "stdout",
     "output_type": "stream",
     "text": [
      "             Price    Open    High     Low  Change\n",
      "Date                                              \n",
      "2014-01-01  1.3754  1.3742  1.3769  1.3742  0.0006\n",
      "2014-01-02  1.3672  1.3756  1.3777  1.3630 -0.0060\n",
      "2014-01-03  1.3588  1.3672  1.3674  1.3582 -0.0061\n",
      "2014-01-06  1.3628  1.3589  1.3653  1.3571  0.0029\n",
      "2014-01-07  1.3616  1.3627  1.3657  1.3596 -0.0009\n",
      "2014-01-08  1.3575  1.3617  1.3636  1.3554 -0.0030\n",
      "2014-01-09  1.3609  1.3577  1.3636  1.3550  0.0025\n",
      "2014-01-10  1.3670  1.3609  1.3689  1.3577  0.0045\n",
      "2014-01-13  1.3672  1.3669  1.3685  1.3637  0.0001\n",
      "2014-01-14  1.3679  1.3670  1.3699  1.3648  0.0005\n"
     ]
    }
   ],
   "source": [
    "df = pd.read_csv('Data/EUR_USD_1418.csv', index_col=0)\n",
    "print(df.head(10))"
   ]
  },
  {
   "cell_type": "code",
   "execution_count": 4,
   "metadata": {},
   "outputs": [
    {
     "name": "stdout",
     "output_type": "stream",
     "text": [
      "             Price    Open    High     Low\n",
      "Date                                      \n",
      "2014-01-01  1.3754  1.3742  1.3769  1.3742\n",
      "2014-01-02  1.3672  1.3756  1.3777  1.3630\n",
      "2014-01-03  1.3588  1.3672  1.3674  1.3582\n",
      "2014-01-06  1.3628  1.3589  1.3653  1.3571\n",
      "2014-01-07  1.3616  1.3627  1.3657  1.3596\n",
      "2014-01-08  1.3575  1.3617  1.3636  1.3554\n",
      "2014-01-09  1.3609  1.3577  1.3636  1.3550\n",
      "2014-01-10  1.3670  1.3609  1.3689  1.3577\n",
      "2014-01-13  1.3672  1.3669  1.3685  1.3637\n",
      "2014-01-14  1.3679  1.3670  1.3699  1.3648\n"
     ]
    }
   ],
   "source": [
    "df.drop(columns=['Change'], inplace=True)\n",
    "df.dropna(inplace=True)\n",
    "print(df.head(10))"
   ]
  },
  {
   "cell_type": "code",
   "execution_count": 5,
   "metadata": {},
   "outputs": [
    {
     "name": "stdout",
     "output_type": "stream",
     "text": [
      "             Price    Open    High     Low      5ma   ...    -DI 20  ADX 20  +DI 21  -DI 21  ADX 21\n",
      "Date                                                  ...                                          \n",
      "2014-01-01  1.3754  1.3742  1.3769  1.3742      NaN   ...       NaN     NaN     NaN     NaN     NaN\n",
      "2014-01-02  1.3672  1.3756  1.3777  1.3630      NaN   ...       NaN     NaN     NaN     NaN     NaN\n",
      "2014-01-03  1.3588  1.3672  1.3674  1.3582      NaN   ...       NaN     NaN     NaN     NaN     NaN\n",
      "2014-01-06  1.3628  1.3589  1.3653  1.3571      NaN   ...       NaN     NaN     NaN     NaN     NaN\n",
      "2014-01-07  1.3616  1.3627  1.3657  1.3596  1.36516   ...       NaN     NaN     NaN     NaN     NaN\n",
      "2014-01-08  1.3575  1.3617  1.3636  1.3554  1.36158   ...       NaN     NaN     NaN     NaN     NaN\n",
      "2014-01-09  1.3609  1.3577  1.3636  1.3550  1.36032   ...       NaN     NaN     NaN     NaN     NaN\n",
      "2014-01-10  1.3670  1.3609  1.3689  1.3577  1.36196   ...       NaN     NaN     NaN     NaN     NaN\n",
      "2014-01-13  1.3672  1.3669  1.3685  1.3637  1.36284   ...       NaN     NaN     NaN     NaN     NaN\n",
      "2014-01-14  1.3679  1.3670  1.3699  1.3648  1.36410   ...       NaN     NaN     NaN     NaN     NaN\n",
      "\n",
      "[10 rows x 96 columns]\n"
     ]
    }
   ],
   "source": [
    "df = moving_average(df, 5)\n",
    "df = moving_average(df, 8)\n",
    "df = moving_average(df, 10)\n",
    "df = moving_average(df, 13)\n",
    "df = moving_average(df, 15)\n",
    "df = moving_average(df, 20)\n",
    "df = moving_average(df, 21)\n",
    "df = EMA(df, 5)\n",
    "df = EMA(df, 10)\n",
    "df = EMA(df, 15)\n",
    "df = EMA(df, 20)\n",
    "df = MACD(df, 12, 26, 9)\n",
    "df = MACD(df, 21, 55, 13)\n",
    "df = stochastic_oscillator(df, 5)\n",
    "df = stochastic_oscillator(df, 8)\n",
    "df = stochastic_oscillator(df, 10)\n",
    "df = stochastic_oscillator(df, 13)\n",
    "df = stochastic_oscillator(df, 15)\n",
    "df = stochastic_oscillator(df, 20)\n",
    "df = stochastic_oscillator(df, 21)\n",
    "df = williams_R(df, 5)\n",
    "df = williams_R(df, 7)\n",
    "df = williams_R(df, 8)\n",
    "df = williams_R(df, 10)\n",
    "df = williams_R(df, 13)\n",
    "df = williams_R(df, 14)\n",
    "df = williams_R(df, 15)\n",
    "df = williams_R(df, 20)\n",
    "df = williams_R(df, 21)\n",
    "df = relative_strength_index(df, 5)\n",
    "df = relative_strength_index(df, 7)\n",
    "df = relative_strength_index(df, 8)\n",
    "df = relative_strength_index(df, 10)\n",
    "df = relative_strength_index(df, 13)\n",
    "df = relative_strength_index(df, 14)\n",
    "df = relative_strength_index(df, 15)\n",
    "df = relative_strength_index(df, 20)\n",
    "df = relative_strength_index(df, 21)\n",
    "df = momentum(df, 5)\n",
    "df = momentum(df, 7)\n",
    "df = momentum(df, 8)\n",
    "df = momentum(df, 10)\n",
    "df = momentum(df, 13)\n",
    "df = momentum(df, 14)\n",
    "df = momentum(df, 15)\n",
    "df = momentum(df, 20)\n",
    "df = momentum(df, 21)\n",
    "df = change_rate(df, 1)\n",
    "df = change_rate(df, 2)\n",
    "df = change_rate(df, 3)\n",
    "df = change_rate(df, 4)\n",
    "df = change_rate(df, 5)\n",
    "df = average_true_range(df, 7)\n",
    "df = average_true_range(df, 14)\n",
    "df = average_true_range(df, 21)\n",
    "df = average_directional_index_and_DI(df, 5)\n",
    "df = average_directional_index_and_DI(df, 7)\n",
    "df = average_directional_index_and_DI(df, 8)\n",
    "df = average_directional_index_and_DI(df, 10)\n",
    "df = average_directional_index_and_DI(df, 13)\n",
    "df = average_directional_index_and_DI(df, 14)\n",
    "df = average_directional_index_and_DI(df, 15)\n",
    "df = average_directional_index_and_DI(df, 20)\n",
    "df = average_directional_index_and_DI(df, 21)\n",
    "\n",
    "print(df.head(10))"
   ]
  },
  {
   "cell_type": "code",
   "execution_count": 6,
   "metadata": {},
   "outputs": [
    {
     "name": "stdout",
     "output_type": "stream",
     "text": [
      "             Price    Open    High     Low      5ma    ...       -DI 20    ADX 20    +DI 21    -DI 21    ADX 21\n",
      "Date                                                   ...                                                     \n",
      "2014-04-03  1.3720  1.3768  1.3807  1.3699  1.37610    ...     0.203351  0.129713  0.183625  0.203576  0.125936\n",
      "2014-04-04  1.3703  1.3719  1.3732  1.3672  1.37510    ...     0.212967  0.128132  0.176792  0.212740  0.124334\n",
      "2014-04-07  1.3741  1.3696  1.3749  1.3689  1.37450    ...     0.204574  0.125032  0.180795  0.204742  0.121371\n",
      "2014-04-08  1.3796  1.3741  1.3813  1.3737  1.37454    ...     0.194362  0.120985  0.212285  0.194993  0.117613\n",
      "2014-04-09  1.3855  1.3794  1.3862  1.3779  1.37630    ...     0.183815  0.120816  0.231863  0.184896  0.117379\n",
      "\n",
      "[5 rows x 96 columns]\n"
     ]
    }
   ],
   "source": [
    "# clean data\n",
    "df = df.replace([np.inf, -np.inf], np.nan)\n",
    "df.dropna(inplace=True)\n",
    "print(df.head())"
   ]
  },
  {
   "cell_type": "code",
   "execution_count": 7,
   "metadata": {},
   "outputs": [
    {
     "name": "stdout",
     "output_type": "stream",
     "text": [
      "         0         1         2         3         4     ...           91        92        93        94        95\n",
      "0  0.941260  0.954777  0.947957  0.940880  0.962537    ...     0.429333  0.073822  0.375990  0.432797  0.071496\n",
      "1  0.936459  0.940927  0.926973  0.933315  0.959659    ...     0.455542  0.070467  0.355108  0.458302  0.068044\n",
      "2  0.947190  0.934426  0.931729  0.938078  0.957933    ...     0.432668  0.063886  0.367343  0.436042  0.061658\n",
      "3  0.962722  0.947145  0.949636  0.951527  0.958048    ...     0.404832  0.055296  0.463577  0.408910  0.053560\n",
      "4  0.979384  0.962125  0.963346  0.963295  0.963112    ...     0.376081  0.054938  0.523407  0.380812  0.053055\n",
      "\n",
      "[5 rows x 96 columns]\n"
     ]
    }
   ],
   "source": [
    "# Normalise data (if needed)\n",
    "float_array = df.values.astype('float')\n",
    "min_max_scaler = preprocessing.MinMaxScaler()\n",
    "scaled_array = min_max_scaler.fit_transform(float_array)\n",
    "df = pd.DataFrame(scaled_array)\n",
    "print(df.head())"
   ]
  }
 ],
 "metadata": {
  "kernelspec": {
   "display_name": "Python 3",
   "language": "python",
   "name": "python3"
  },
  "language_info": {
   "codemirror_mode": {
    "name": "ipython",
    "version": 3
   },
   "file_extension": ".py",
   "mimetype": "text/x-python",
   "name": "python",
   "nbconvert_exporter": "python",
   "pygments_lexer": "ipython3",
   "version": "3.6.4"
  }
 },
 "nbformat": 4,
 "nbformat_minor": 2
}
