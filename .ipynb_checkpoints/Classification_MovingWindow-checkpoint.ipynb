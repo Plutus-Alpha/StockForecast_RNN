{
 "cells": [
  {
   "cell_type": "code",
   "execution_count": 4,
   "metadata": {},
   "outputs": [],
   "source": [
    "import numpy as np\n",
    "import pickle\n",
    "import pandas as pd\n",
    "import matplotlib.pyplot as plt\n",
    "import warnings\n",
    "from collections import Counter\n",
    "from sklearn import neighbors, svm, model_selection, metrics\n",
    "from sklearn.ensemble import VotingClassifier, RandomForestClassifier\n",
    "from sklearn.model_selection import TimeSeriesSplit, cross_validate, train_test_split\n",
    "from sklearn.utils import resample\n",
    "from tqdm import tqdm\n",
    "import datetime as dt\n",
    "from technical_indicators import *\n",
    "\n",
    "\n",
    "pd.set_option(\"display.max_columns\", 15)\n",
    "pd.set_option(\"display.width\", 500)\n",
    "\n",
    "# Variables\n",
    "moving_window = 1000\n",
    "test_len = 10\n",
    "\n",
    "\n",
    "def SMA_classification(df, n):\n",
    "    df['Target ma'] = df['Price'].rolling(window=n, min_periods=n).mean()\n",
    "    df['Target ma'] = df['Target ma'].round(4)\n",
    "    df.dropna(inplace=True)\n",
    "    df['Target'] = np.where(df['Target ma'.format(n)].shift(-n) > df['Target ma'], 1, -1)\n",
    "    df.drop(columns=['Target ma'], inplace=True)\n",
    "    df.dropna(inplace=True)\n",
    "\n",
    "    return df\n",
    "\n",
    "def data_processing(df):\n",
    "    \n",
    "    df = df.replace([np.inf, -np.inf], np.nan)\n",
    "    # Drop na, nan and nat rows\n",
    "    df.dropna(inplace=True)\n",
    "    \n",
    "    tmp_df = df.copy()\n",
    "    tmp_df.drop(columns=['Target'], inplace=True)\n",
    "    \n",
    "    X = tmp_df.values\n",
    "    y = df['Target'].values\n",
    "\n",
    "    return X, y, df\n",
    "\n",
    "\n",
    "def feature_comparison(original_df, moving_window, test_len):\n",
    "    \n",
    "    clf1 = neighbors.KNeighborsClassifier()\n",
    "    clf2 = svm.SVC(kernel='rbf', C=10)\n",
    "    clf3 = svm.SVC(kernel='linear', C=10)\n",
    "    clf4 = RandomForestClassifier(random_state=0)\n",
    "    clf5 = VotingClassifier([('lsvc', svm.LinearSVC()),\n",
    "                            ('knn', neighbors.KNeighborsClassifier()),\n",
    "                            ('rfor', RandomForestClassifier(random_state=0))])\n",
    "    \n",
    "    clf_list = [clf1, clf2, clf3, clf4, clf5]\n",
    "    clf_name_list = ['KNN', 'SVM.SVC.RBF', 'SVM.SVC.Linear', 'RandomForestClassifier', 'VotingClassifier']\n",
    "    \n",
    "    accuracy_list = []\n",
    "    \n",
    "    for i in range(len(clf_list)):\n",
    "\n",
    "        df = original_df.copy()\n",
    "        X, y, df = data_processing(df)\n",
    "        \n",
    "        correct = wrong = 0\n",
    "        \n",
    "        for j in tqdm(range(X.shape[0]-moving_window-test_len)):\n",
    "\n",
    "            X_train, X_test = X[np.arange(j,j+moving_window)], X[np.arange(j+moving_window,j+moving_window+test_len)]\n",
    "            y_train, y_test = y[np.arange(j,j+moving_window)], y[np.arange(j+moving_window,j+moving_window+test_len)]\n",
    "            \n",
    "            if len(set(y_train)) == 1:\n",
    "                for e in y_test:\n",
    "                    if e == y_train[0]:\n",
    "                        correct += 1\n",
    "                    else:\n",
    "                        wrong += 1\n",
    "            else:\n",
    "                clf_list[i].fit(X_train, y_train)\n",
    "                # Gives deprecation warning here\n",
    "                accuracy = clf_list[i].score(X_test, y_test)\n",
    "                prediction = clf_list[i].predict(X_test)\n",
    "\n",
    "                if accuracy == 1.0:\n",
    "                    correct += 1\n",
    "                elif accuracy == 0.0:\n",
    "                    wrong += 1\n",
    "\n",
    "            accuracy_list.append(round(correct/(correct+wrong), 3))\n",
    "        \n",
    "        print('Mean accuracy of {}: {}'.format(clf_list[i], round(np.mean(accuracy_list), 3)))\n",
    "\n",
    "        \n",
    "def build_model(clf, X_train, y_train, X_test, y_test):\n",
    "    \n",
    "    clf.fit(X_train, y_train)\n",
    "    accuracy = clf.score(X_test, y_test)\n",
    "    prediction = clf.predict(X_test)\n",
    "    \n",
    "    return accuracy, prediction\n"
   ]
  },
  {
   "cell_type": "code",
   "execution_count": 5,
   "metadata": {},
   "outputs": [],
   "source": [
    "df = pd.read_csv('Data/EUR_USD_Daily.csv', index_col=0)\n",
    "\n",
    "# Create labels for training\n",
    "df = SMA_classification(df, 5)\n",
    "\n",
    "df.drop(columns=['Change'], inplace=True)\n",
    "\n",
    "df = moving_average(df, 5)\n",
    "df = moving_average(df, 8)\n",
    "df = moving_average(df, 10)\n",
    "df = moving_average(df, 13)\n",
    "df = moving_average(df, 15)\n",
    "df = moving_average(df, 20)\n",
    "df = moving_average(df, 21)\n",
    "df.dropna(inplace=True)"
   ]
  },
  {
   "cell_type": "code",
   "execution_count": 6,
   "metadata": {},
   "outputs": [
    {
     "name": "stderr",
     "output_type": "stream",
     "text": [
      "100%|█████████████████████████████████████████████████| 3918/3918 [00:08<00:00, 470.44it/s]\n"
     ]
    },
    {
     "name": "stdout",
     "output_type": "stream",
     "text": [
      "Mean accuracy of KNeighborsClassifier(algorithm='auto', leaf_size=30, metric='minkowski',\n",
      "           metric_params=None, n_jobs=1, n_neighbors=5, p=2,\n",
      "           weights='uniform'): 0.762\n"
     ]
    },
    {
     "name": "stderr",
     "output_type": "stream",
     "text": [
      "100%|██████████████████████████████████████████████████| 3918/3918 [02:04<00:00, 31.08it/s]\n"
     ]
    },
    {
     "name": "stdout",
     "output_type": "stream",
     "text": [
      "Mean accuracy of SVC(C=10, cache_size=200, class_weight=None, coef0=0.0,\n",
      "  decision_function_shape='ovr', degree=3, gamma='auto', kernel='rbf',\n",
      "  max_iter=-1, probability=False, random_state=None, shrinking=True,\n",
      "  tol=0.001, verbose=False): 0.699\n"
     ]
    },
    {
     "name": "stderr",
     "output_type": "stream",
     "text": [
      "100%|██████████████████████████████████████████████████| 3918/3918 [01:10<00:00, 55.29it/s]\n"
     ]
    },
    {
     "name": "stdout",
     "output_type": "stream",
     "text": [
      "Mean accuracy of SVC(C=10, cache_size=200, class_weight=None, coef0=0.0,\n",
      "  decision_function_shape='ovr', degree=3, gamma='auto', kernel='linear',\n",
      "  max_iter=-1, probability=False, random_state=None, shrinking=True,\n",
      "  tol=0.001, verbose=False): 0.774\n"
     ]
    },
    {
     "name": "stderr",
     "output_type": "stream",
     "text": [
      "100%|██████████████████████████████████████████████████| 3918/3918 [01:54<00:00, 34.36it/s]\n"
     ]
    },
    {
     "name": "stdout",
     "output_type": "stream",
     "text": [
      "Mean accuracy of RandomForestClassifier(bootstrap=True, class_weight=None, criterion='gini',\n",
      "            max_depth=None, max_features='auto', max_leaf_nodes=None,\n",
      "            min_impurity_decrease=0.0, min_impurity_split=None,\n",
      "            min_samples_leaf=1, min_samples_split=2,\n",
      "            min_weight_fraction_leaf=0.0, n_estimators=10, n_jobs=1,\n",
      "            oob_score=False, random_state=0, verbose=0, warm_start=False): 0.782\n"
     ]
    },
    {
     "name": "stderr",
     "output_type": "stream",
     "text": [
      "100%|██████████████████████████████████████████████████| 3918/3918 [04:20<00:00, 18.16it/s]\n"
     ]
    },
    {
     "name": "stdout",
     "output_type": "stream",
     "text": [
      "Mean accuracy of VotingClassifier(estimators=[('lsvc', LinearSVC(C=1.0, class_weight=None, dual=True, fit_intercept=True,\n",
      "     intercept_scaling=1, loss='squared_hinge', max_iter=1000,\n",
      "     multi_class='ovr', penalty='l2', random_state=None, tol=0.0001,\n",
      "     verbose=0)), ('knn', KNeighborsClassifier(algorithm='auto', leaf_size=30, m...estimators=10, n_jobs=1,\n",
      "            oob_score=False, random_state=0, verbose=0, warm_start=False))],\n",
      "         flatten_transform=None, n_jobs=1, voting='hard', weights=None): 0.796\n"
     ]
    }
   ],
   "source": [
    "warnings.filterwarnings(module='sklearn*', action='ignore', category=DeprecationWarning)\n",
    "feature_comparison(df, moving_window, test_len)"
   ]
  },
  {
   "cell_type": "code",
   "execution_count": null,
   "metadata": {},
   "outputs": [],
   "source": []
  }
 ],
 "metadata": {
  "kernelspec": {
   "display_name": "Python 3",
   "language": "python",
   "name": "python3"
  },
  "language_info": {
   "codemirror_mode": {
    "name": "ipython",
    "version": 3
   },
   "file_extension": ".py",
   "mimetype": "text/x-python",
   "name": "python",
   "nbconvert_exporter": "python",
   "pygments_lexer": "ipython3",
   "version": "3.6.4"
  }
 },
 "nbformat": 4,
 "nbformat_minor": 2
}
